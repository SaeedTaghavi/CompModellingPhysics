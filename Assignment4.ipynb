{
 "cells": [
  {
   "cell_type": "markdown",
   "metadata": {},
   "source": [
    "# PHY1024 Assignment 4\n",
    "## Monte Carlo simulations; error propagation\n",
    "## Deadline: 4pm Wednesday 11th May 2016"
   ]
  },
  {
   "cell_type": "markdown",
   "metadata": {},
   "source": [
    "Any background research or work not original to you must be fully referenced. All\n",
    "University regulations, including those on assignment deadlines and plagiarism, will be\n",
    "fully adhered to."
   ]
  },
  {
   "cell_type": "markdown",
   "metadata": {},
   "source": [
    "Submission requirements: \n",
    "    \n",
    "By the deadline, you need to provide:\n",
    "\n",
    "1) A paper report containing your answers (i.e. written answers and the lines of code) to all exercises, and any plots from the exercises. This should be handed into Physics reception along with the assignment submission sheet.\n",
    "\n",
    "2) The python code you wrote to solve the exercises in separate files named \"yourlastname_yourstudentnumber_exercise1.py\" and \"yourlastname_yourstudentnumber_exercise2.py\" (and \"yourlastname_yourstudentnumber_bonusexercise.py\"). These should be emailed as attachments to k.poppenhaeger@qub.ac.uk, with the subject given as your name and student number. To achieve full marks, your code must be working, be well commented and use techniques commensurate with at least the taught level of knowledge at this stage.\n"
   ]
  },
  {
   "cell_type": "markdown",
   "metadata": {},
   "source": [
    "**Exercise 1:** (total: 40 marks)\n",
    "\n",
    "*Background:* We often do error propagation in physics. Let's say we want to add two numbers we have measured in the lab somehow, and each of those numbers has a measurement error (standard deviation):\n",
    "\n",
    "M = 10.5 $\\pm$ 2.0\n",
    "\n",
    "L = 4.4 $\\pm$ 0.6\n",
    "\n",
    "The laws of error propagation tell us what the standard deviation of the sum of M and L should be:\n",
    "\n",
    "M + L = 14.9 $\\pm$ $\\sqrt{2.0^2 + 0.6^2}$.\n",
    "\n",
    "*Your job:* Test this with python. \n",
    "\n",
    "1a) Using the \"np.random.normal\" function, create an array called M which contains 10000 values with a mean of 10.5 and a standard deviation of 2.0, and an array called L with 10000 values with a mean of 4.4 and a standard deviation of 0.6. \n",
    "\n",
    "1b) Make a new array R by adding the two arrays.\n"
   ]
  },
  {
   "cell_type": "markdown",
   "metadata": {},
   "source": [
    "1c) Write a function that calculates the mean and the standard deviation of an array, using the formula from the lecture. Calculate the means and standard deviations of M, L, and R.\n",
    "\n",
    "1d) Make a matplotlib plot of the three arrays (M, L, and R), using the element number on the x axis and the values stored in the array on the y axis. Switch connecting lines off and use small marker symbols by using '.' in the plotting command, as in \"plt.plot(xxxxxx, xxxxxxx, '.')\". Use 3 different colors for the arrays.\n",
    "\n",
    "1e) Make a matplotlib plot of the *histograms* of M, L, and R (three histograms in the same plot). Use 100 bins for each array in the plot. You can set the option \"alpha=0.5\" at the end of the plt.hist command, like this: plt.hist(mydata, bins=mynumberofbins, alpha=0.5), to make each histogram slightly transparent. This will prevent the histograms from completely blocking out parts of the previously plotted histgrams. \n",
    "\n",
    "1f) Write down in your own words how you can graphically see the concept of error propagation in the plots from 1d) and 1e).\n"
   ]
  },
  {
   "cell_type": "markdown",
   "metadata": {},
   "source": [
    "**Exercise 2**: (total: 60 marks)\n",
    "\n",
    "Imagine we don't know what the value of the number $\\pi$ (pi) is. We can find out what it is numerically with a Monte Carlo simulation.\n",
    "\n",
    "2a) Create two arrays, X and Y, with 5000 elements each. The values in each array shall be **randomly and uniformly** distributed between -1 and 1. You can use the function np.random.uniform for this. \n",
    "\n",
    "2b) Make a matplotlib plot where you plot Y versus X. Use dots as markers for the data points and no connecting lines. Make it a square-shaped plot, using this command in the beginning: \"plt.figure(figsize=(8,8))\".\n",
    "\n",
    "2c) Imagine you place a circle with radius 1 and center at (0,0) onto that plot. What condition must the data points inside the circle fulfill? Make an array called \"good\" which describes which data points are inside the circle.\n"
   ]
  },
  {
   "cell_type": "markdown",
   "metadata": {},
   "source": [
    "2d) Make a new square-shaped plot of all Y versus X data points in blue, and overplot that with only the \"good\" data points plotted in a different colour. **Note:** If you intend to hand in a black-and-white printout for this assignment, make sure that you use colours that actually look different in a black-and-white printout!\n",
    "\n",
    "2e) How many data points  are inside the circle? How much is that relative to the 5000 data points in total? What is your numerical estimate for the number pi?\n",
    "\n",
    "2f) Using fresh random X and Y arrays each time, calculate the number pi in the way described above 20 times. You can make your life easier if you put the above steps into a function. Take those 20 results and compare their mean to the true value of pi. Also calculate the standard deviation of those 20 results. How accurate would you say is your Monte Carlo estimate for the number pi (expressed in percent)?\n",
    "\n",
    "2g) Repeat the full exercise 5f), but this time use X and Y arrays with 20000 elements each."
   ]
  },
  {
   "cell_type": "markdown",
   "metadata": {},
   "source": [
    "**Bonus Exercise:** (total: 5 bonus marks)\n",
    "\n",
    "Give one example from either Exercise 1 or Exercise 2 that doesn't work correctly, *and explain why it doesn't work*. These can be an example of an actual mistake you made while trying to work out the correct answers to the exercises."
   ]
  }
 ],
 "metadata": {
  "kernelspec": {
   "display_name": "Python 2",
   "language": "python",
   "name": "python2"
  },
  "language_info": {
   "codemirror_mode": {
    "name": "ipython",
    "version": 2
   },
   "file_extension": ".py",
   "mimetype": "text/x-python",
   "name": "python",
   "nbconvert_exporter": "python",
   "pygments_lexer": "ipython2",
   "version": "2.7.11"
  }
 },
 "nbformat": 4,
 "nbformat_minor": 0
}
