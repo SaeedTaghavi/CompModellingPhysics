{
 "cells": [
  {
   "cell_type": "markdown",
   "metadata": {},
   "source": [
    "# PHY1024 - Introduction to Python Programming, week 3"
   ]
  },
  {
   "cell_type": "markdown",
   "metadata": {},
   "source": [
    "The lecture materials, worksheets, and assignments can all be found here:\n",
    "\n",
    "http://go.qub.ac.uk/phy1024y2016\n"
   ]
  },
  {
   "cell_type": "markdown",
   "metadata": {},
   "source": [
    "## Lecture materials"
   ]
  },
  {
   "cell_type": "markdown",
   "metadata": {},
   "source": [
    "Note: the computer labs sessions are mandatory also in weeks where there is no new assignment. Attendance sheets will be provided for the computer labs which need to be signed by each student either on a Thursday session or a Friday session."
   ]
  },
  {
   "cell_type": "markdown",
   "metadata": {},
   "source": [
    "### Monte Carlo simulations"
   ]
  },
  {
   "cell_type": "markdown",
   "metadata": {},
   "source": [
    "Now that we know how to produce random numbers with the help of a computer, we might as well do something useful with it.\n",
    "\n",
    "Monte Carlo simulations are computational algorithms that use random numbers (\"random sampling\") to get a numerical result.\n",
    "\n",
    "How does this work?\n",
    "\n",
    "Step 1: Define what the range of possible inputs is\n",
    "\n",
    "Step 2: Produce a random sampling of the possible input numbers\n",
    "\n",
    "Step 3: Perform the calculation describing the physical problem, using the random numbers from Step 2 as input data\n",
    "\n",
    "Step 4: Evaluate the result (look at the output numbers).\n",
    "\n",
    "When we have done all this, we have successfully simulated a physical problem using the Monte Carlo method."
   ]
  },
  {
   "cell_type": "markdown",
   "metadata": {},
   "source": [
    "#### Example: Rolling 2 dice"
   ]
  },
  {
   "cell_type": "markdown",
   "metadata": {},
   "source": [
    "Let's say we roll 2 dice and what to figure out how likely it is that we roll a total of 11 or more eyes. We *could* figure this out without a simulation: we could roll 6 and 6 , or 5 and 6... but do we also have to count 6 and 5? Hmm....\n",
    "\n",
    "So let's say we do this brute force with a simulation.\n",
    "\n",
    "Step 1: possible input range: 1, 2, 3, 4, 5, 6 for each die.\n",
    "\n",
    "Step 2: Make a random sample of those input values. Specifically, let's say we make 10000 random numbers for each die, going from 1 to 6."
   ]
  },
  {
   "cell_type": "code",
   "execution_count": 2,
   "metadata": {
    "collapsed": false
   },
   "outputs": [],
   "source": [
    "import numpy as np\n",
    "\n",
    "np.random.seed(1234)\n",
    "\n",
    "die_1 = np.random.random_integers(1, 6, 10000) # this draws random integers from a uniform distribution\n",
    "\n",
    "die_2 = np.random.random_integers(1, 6, 10000)\n"
   ]
  },
  {
   "cell_type": "markdown",
   "metadata": {},
   "source": [
    "Step 3: Make the calculation, i.e. in this case the sum of the eyes shown by the two dice."
   ]
  },
  {
   "cell_type": "code",
   "execution_count": 3,
   "metadata": {
    "collapsed": true
   },
   "outputs": [],
   "source": [
    "result = die_1 + die_2"
   ]
  },
  {
   "cell_type": "markdown",
   "metadata": {},
   "source": [
    "Step 4: evaluate the results. This means we want to see how many of our 1000 random results have a value of 11 or more (specifically, 11 or 12 because 12 is the maximum we can roll with 2 dice).\n",
    "\n",
    "Python has a really convenient way for doing this, namely with a concept called *masks*."
   ]
  },
  {
   "cell_type": "markdown",
   "metadata": {},
   "source": [
    "#### Masks in python"
   ]
  },
  {
   "cell_type": "markdown",
   "metadata": {},
   "source": [
    "We can have python compare the elements of an array to a condition, and the result is called a **mask**. The mask is either True or False for each element:"
   ]
  },
  {
   "cell_type": "code",
   "execution_count": 4,
   "metadata": {
    "collapsed": false
   },
   "outputs": [
    {
     "name": "stdout",
     "output_type": "stream",
     "text": [
      "[False False False  True False False False False False False  True False\n",
      " False False False False False  True False False False False False False\n",
      " False False False False False False False False False False False False\n",
      "  True False False False False False False False False False False  True\n",
      " False  True]\n"
     ]
    }
   ],
   "source": [
    "mymask = result >= 11\n",
    "\n",
    "print mymask[0:50]"
   ]
  },
  {
   "cell_type": "markdown",
   "metadata": {},
   "source": [
    "So, if an element fulfills our condition, the mask has a value \"True\", otherwise the mask value is \"false\". \n",
    "\n",
    "And now we can use another very neat python construct. Python internally treats \"True\" as a \"1\", and \"False\" as a \"0\". Python also allows us to sum up all elements in an array by writing \".sum()\" at the end of an array. So if we sum up all the elements in the mask, we get the number of True elements:\n"
   ]
  },
  {
   "cell_type": "code",
   "execution_count": 5,
   "metadata": {
    "collapsed": false
   },
   "outputs": [
    {
     "name": "stdout",
     "output_type": "stream",
     "text": [
      "820\n"
     ]
    }
   ],
   "source": [
    "print mymask.sum()"
   ]
  },
  {
   "cell_type": "markdown",
   "metadata": {},
   "source": [
    "And this is how many elements we have in total:"
   ]
  },
  {
   "cell_type": "code",
   "execution_count": 6,
   "metadata": {
    "collapsed": false
   },
   "outputs": [
    {
     "name": "stdout",
     "output_type": "stream",
     "text": [
      "10000\n"
     ]
    }
   ],
   "source": [
    "print len(result)"
   ]
  },
  {
   "cell_type": "markdown",
   "metadata": {},
   "source": [
    "Now we can calculate what fraction of all our result produced \"True\" when we asked for results with a value of 11 or larger."
   ]
  },
  {
   "cell_type": "code",
   "execution_count": 7,
   "metadata": {
    "collapsed": false
   },
   "outputs": [
    {
     "name": "stdout",
     "output_type": "stream",
     "text": [
      "0.082\n"
     ]
    }
   ],
   "source": [
    "print np.float(mymask.sum())/np.float(len(result))"
   ]
  },
  {
   "cell_type": "markdown",
   "metadata": {},
   "source": [
    "We use the np.float() around the numbers because otherwise they would be integers, and we remember that dividing a smaller integer by a larger integer in python would just give us a zero instead of a fraction."
   ]
  },
  {
   "cell_type": "code",
   "execution_count": 8,
   "metadata": {
    "collapsed": false
   },
   "outputs": [
    {
     "name": "stdout",
     "output_type": "stream",
     "text": [
      "0\n"
     ]
    }
   ],
   "source": [
    "# this is what we should not do:\n",
    "print mymask.sum()/len(result)"
   ]
  },
  {
   "cell_type": "markdown",
   "metadata": {},
   "source": [
    "So our result is 0.082! Does that make sense? Let's do the mental exercise in any case: There are 36 different ordered pairs of 2 numbers we can roll, 3 out of those have a value of 11 or more (6+6, 5+6, 6+5), so we expect a fracyio of 3/36 = 1/12. This is numerically:"
   ]
  },
  {
   "cell_type": "code",
   "execution_count": 9,
   "metadata": {
    "collapsed": false
   },
   "outputs": [
    {
     "name": "stdout",
     "output_type": "stream",
     "text": [
      "0.0833333333333\n"
     ]
    }
   ],
   "source": [
    "print 1./12."
   ]
  },
  {
   "cell_type": "markdown",
   "metadata": {},
   "source": [
    "So our Monte Carlo simulation which yielded 0.082 did quite well!"
   ]
  },
  {
   "cell_type": "markdown",
   "metadata": {},
   "source": [
    "#### Repeating pseudo-random experiments and the concept of a \"seed\""
   ]
  },
  {
   "cell_type": "markdown",
   "metadata": {},
   "source": [
    "Exactly how well did we do with our Monte Carlo simulation? Obviously, we're reasonably close to the true value, i.e. we're only off by a few percent:"
   ]
  },
  {
   "cell_type": "code",
   "execution_count": 11,
   "metadata": {
    "collapsed": false
   },
   "outputs": [
    {
     "name": "stdout",
     "output_type": "stream",
     "text": [
      "We're off by  -1.6  percent.\n"
     ]
    }
   ],
   "source": [
    "monte_carlo_result = np.float(mymask.sum())/np.float(len(result))\n",
    "true_result = 1./12.\n",
    "error_from_true_result = monte_carlo_result/true_result - 1.\n",
    "\n",
    "print \"We're off by \", error_from_true_result * 100, \" percent.\""
   ]
  },
  {
   "cell_type": "markdown",
   "metadata": {},
   "source": [
    "But is that because we were very lucky with our draw of pseudo-random numbers? Or particularly unlucky? Or is this a typical result?\n",
    "\n",
    "We can test this by repeating the experiment and then looking at the *distribution* of results from the individual Monte Carlo simulations.\n",
    "\n",
    "Let's say we want to run 10 Monte Carlo simulations. This means we need 10 different series of pseudo-random numbers for each die.\n",
    "\n",
    "Let's also say we want our experiment to be *repeatable*, i.e. we want the same sequences of random numbers every time we run our program. This is possible by specifying the **seed** of the number sequence. \n",
    "\n",
    "We remember, the numbers we generate here are only pseudo-random, because they are generated by a predictable algorithm. The seed is a number which identifies the specific pseudo-random number sequence I request. For exmaple, with the middle-square method from last week, the seed is equal to the first number I use in the algorithm. For the modulo-generator (remember, we had 3 large integers for that and a start number), I can imagine a seed which tells the program to look up a combination of those 4 numbers from some lookup-table.\n",
    "\n",
    "Here's how this works in practice:"
   ]
  },
  {
   "cell_type": "code",
   "execution_count": 25,
   "metadata": {
    "collapsed": false
   },
   "outputs": [
    {
     "name": "stdout",
     "output_type": "stream",
     "text": [
      "[5 2 1 6 1]\n",
      "[2 5 1 4 9]\n",
      "[5 2 1 6 1]\n",
      "[2 5 1 4 9]\n",
      "[5 2 1 6 1]\n"
     ]
    }
   ],
   "source": [
    "import numpy as np\n",
    "\n",
    "# here we calculate 5 random integers between 0 and 10, without specifying a seed.\n",
    "\n",
    "# What python actually does in the background is it calculates some arbitrary seed based on the clock time of the computer.\n",
    "\n",
    "print np.random.random_integers(0, 10, 5)\n",
    "\n",
    "# Now we specify a seed:\n",
    "\n",
    "np.random.seed(12345) \n",
    "\n",
    "# And calculate again 5 numbers:\n",
    "\n",
    "print np.random.random_integers(0, 10, 5)\n",
    "\n",
    "# If we want to generate the exact same sequence again,\n",
    "# we set the seed to that number again:\n",
    "\n",
    "np.random.seed(12345) \n",
    "\n",
    "# And get the same numbers again:\n",
    "\n",
    "print np.random.random_integers(0, 10, 5)\n"
   ]
  },
  {
   "cell_type": "markdown",
   "metadata": {},
   "source": [
    "Now we can complete our original task of making 10 repeatable Monte Carlo simulations for our 2 dice."
   ]
  },
  {
   "cell_type": "code",
   "execution_count": 36,
   "metadata": {
    "collapsed": false
   },
   "outputs": [
    {
     "name": "stdout",
     "output_type": "stream",
     "text": [
      "[ 0.082   0.0802  0.0846  0.0855  0.0815  0.0849  0.0778  0.0854  0.0856\n",
      "  0.0862]\n"
     ]
    }
   ],
   "source": [
    "# put all our calculations into one neat function:\n",
    "def MonteCarloDice(myseed):\n",
    "    length = 10000 # how many random numbers per single die\n",
    "    np.random.seed(myseed) # setting the seed for the first die\n",
    "    die_1 = np.random.random_integers(1, 6, length)\n",
    "    np.random.seed(myseed + 1) # setting a different seed for the second die.\n",
    "    # technically we don't have to do this because python will choose\n",
    "    # a new seed based on the first seed we specified,\n",
    "    # and it will do so predictably.\n",
    "    # But like this we have absolute control over what we're doing here\n",
    "    # (without having to rely on Python's cleverness in the background).\n",
    "    die_2 = np.random.random_integers(1, 6, length)\n",
    "    result = die_1 + die_2\n",
    "    mymask = result >= 11 # figure out how many results have 11 or more points\n",
    "    MonteCarloResult = np.float(mymask.sum())/np.float(len(result)) # calculate ratio of reults >=11 to all results\n",
    "    return MonteCarloResult\n",
    "\n",
    "# make an array of 10 different seeds:\n",
    "myseedlist = np.array([100, 200, 300, 400, 500, 600, 700, 800, 900, 1000])\n",
    "\n",
    "# make an empty array in which to store the results of the 10 Monte Carlo simulations:\n",
    "myresults = np.zeros(10)\n",
    "\n",
    "# make a loop to perform the 10 simulations:\n",
    "for i in np.arange(0, 10):\n",
    "    myresults[i] = MonteCarloDice(myseedlist[i]) # using a different seed each time!\n",
    "\n",
    "print myresults\n"
   ]
  },
  {
   "cell_type": "markdown",
   "metadata": {},
   "source": [
    "Let's make a plot of those values and see how they compare to the true value:"
   ]
  },
  {
   "cell_type": "code",
   "execution_count": 35,
   "metadata": {
    "collapsed": false
   },
   "outputs": [
    {
     "data": {
      "text/plain": [
       "[-1, 10, 0.07, 0.09]"
      ]
     },
     "execution_count": 35,
     "metadata": {},
     "output_type": "execute_result"
    },
    {
     "data": {
      "image/png": "[encoded data removed]",
      "text/plain": [
       "<matplotlib.figure.Figure at 0x7f92c6672390>"
      ]
     },
     "metadata": {},
     "output_type": "display_data"
    }
   ],
   "source": [
    "import matplotlib.pyplot as plt\n",
    "# this next line is only for ipython notebooks:\n",
    "%matplotlib inline \n",
    "\n",
    "plt.figure()\n",
    "# make some numbers from 0 to 9 as x coordinates:\n",
    "x = np.arange(0, len(myresults))\n",
    "# plot simulation results as dots:\n",
    "plt.plot(x, myresults, 'o')\n",
    "# and plot the true result as a line:\n",
    "plt.plot(x, np.ones(len(x))*true_result, '-' )\n",
    "# and adjust the plotting axes a bit so that the data points at 0 and 9 aren't cut in half:\n",
    "plt.axis([-1, 10, 0.07, 0.09])"
   ]
  },
  {
   "cell_type": "markdown",
   "metadata": {},
   "source": [
    "Now we can also define a more standardized way of measuring how large our scatter around the true value is. This is done through the concept of the *standard deviation*."
   ]
  },
  {
   "cell_type": "markdown",
   "metadata": {},
   "source": [
    "### Distributions and the standard deviation"
   ]
  },
  {
   "cell_type": "markdown",
   "metadata": {},
   "source": [
    "Say we have random numbers (or really any sequence of data points):\n",
    "\n",
    "$x_1, x_2, x_3, x_4, ... x_N$\n",
    "\n",
    "The **mean** of those data points is defined as:\n",
    "\n",
    "$\\mu = \\frac{1}{N} \\cdot (x_1 + x_2 + x_3 + ... + x_N)$\n",
    "\n",
    "And the **standard deviation** of the data from the mean is defined as:\n",
    "\n",
    "$\\sigma = \\sqrt{\\frac{1}{N} \\cdot [(x_1 - \\mu)^2  + (x_2 - \\mu)^2 + ... +(x_N - \\mu)^2]}$\n",
    "\n",
    "The larger the standard deviation, the larger is the scatter of the data around the mean.\n",
    "\n",
    "Specifically, for Gaussian (normal) distributions, 68% of the data will be contained in a range of $\\pm 1$ standard deviation around the mean."
   ]
  },
  {
   "cell_type": "markdown",
   "metadata": {},
   "source": [
    "The blue data set has a smaller standard deviation than the red one:"
   ]
  },
  {
   "cell_type": "code",
   "execution_count": 23,
   "metadata": {
    "collapsed": false
   },
   "outputs": [
    {
     "data": {
      "text/plain": [
       "[<matplotlib.lines.Line2D at 0x7fac8a1cfa90>]"
      ]
     },
     "execution_count": 23,
     "metadata": {},
     "output_type": "execute_result"
    },
    {
     "data": {
      "image/png": "[encoded data removed]",
      "text/plain": [
       "<matplotlib.figure.Figure at 0x7fac8a2b2090>"
      ]
     },
     "metadata": {},
     "output_type": "display_data"
    }
   ],
   "source": [
    "import matplotlib.pyplot as plt\n",
    "%matplotlib inline\n",
    "\n",
    "set_1 = np.random.normal(10, 5, 500)\n",
    "\n",
    "set_2 = np.random.normal(10, 2, 500)\n",
    "\n",
    "plt.figure()\n",
    "plt.plot(np.arange(0, len(set_1)), set_1, 'b.')\n",
    "plt.plot(np.arange(len(set_1), len(set_1) + len(set_2)), set_2, 'r.')\n"
   ]
  },
  {
   "cell_type": "markdown",
   "metadata": {
    "collapsed": true
   },
   "source": [
    "So we can now calculate the standard deviation of our 10 Monte Carlo simulation results from above. I won't explicitly write here how to calculate it in Python, because it is part of this week's Assignment for you to write a function that calculates the standard deviation, but the result of that calculationis that our Monte Carlo simulations have a standard deviation of 0.00268. So we can expect that 68% of our individual simulation results will be in the range from 1./12.-0.00268 to 1./12.+0.00268."
   ]
  },
  {
   "cell_type": "markdown",
   "metadata": {
    "collapsed": true
   },
   "source": [
    "### Worksheet materials"
   ]
  },
  {
   "cell_type": "markdown",
   "metadata": {},
   "source": [
    "There are no extra worksheet materials for this week; all the information you need to solve the exercises of this week's Assignment have been covered in the lectures this week and last week. All the materials are available on the course website:\n",
    "\n",
    "http://go.qub.ac.uk/phy1024y2016\n",
    "\n"
   ]
  }
 ],
 "metadata": {
  "kernelspec": {
   "display_name": "Python 2",
   "language": "python",
   "name": "python2"
  },
  "language_info": {
   "codemirror_mode": {
    "name": "ipython",
    "version": 2
   },
   "file_extension": ".py",
   "mimetype": "text/x-python",
   "name": "python",
   "nbconvert_exporter": "python",
   "pygments_lexer": "ipython2",
   "version": "2.7.11"
  }
 },
 "nbformat": 4,
 "nbformat_minor": 0
}
