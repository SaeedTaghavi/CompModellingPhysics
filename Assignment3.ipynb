{
 "cells": [
  {
   "cell_type": "markdown",
   "metadata": {},
   "source": [
    "# PHY1024 Assignment 3\n",
    "## First steps in Python\n",
    "## Deadline: 4pm Wednesday 27th April 2016"
   ]
  },
  {
   "cell_type": "markdown",
   "metadata": {},
   "source": [
    "Any background research or work not original to you must be fully referenced. All\n",
    "University regulations, including those on assignment deadlines and plagiarism, will be\n",
    "fully adhered to."
   ]
  },
  {
   "cell_type": "markdown",
   "metadata": {},
   "source": [
    "Submission requirements: \n",
    "    \n",
    "By the deadline, you need to provide:\n",
    "\n",
    "1) A paper report containing your answers (i.e. written answers and the lines of code) to all exercises, and the plot from exercise 2. This should be handed into Physics reception along with the assignment submission sheet.\n",
    "\n",
    "2) The python code you wrote to solve exercises 3 and 4 (and the bonus exercise if you want to try it), in separate files named \"yourlastname_yourstudentnumber_exercise3.py\" and \"yourlastname_yourstudentnumber_exercise4.py\" (and \"yourlastname_yourstudentnumber_bonusexercise.py\"). These should be emailed as attachments to k.poppenhaeger@qub.ac.uk, with the subject given as your name and student number. To achieve full marks, your code must be working, be well commented and use techniques commensurate with at least the taught level of knowledge at this stage.\n"
   ]
  },
  {
   "cell_type": "markdown",
   "metadata": {},
   "source": [
    "**Note:** This assignment has more marks available than you need to score 100%. To reach 100% you need a total of 40 marks. So if you are still struggling a bit with Python (or just for fun!), you can try to solve the bonus exercise and receive extra marks. There is no penalty for trying to solve the bonus exercise and getting it wrong."
   ]
  },
  {
   "cell_type": "markdown",
   "metadata": {},
   "source": [
    "**Exercise 1:** (total: 10 marks)\n",
    "\n",
    "In a freshly opened python shell, what commands do you have to execute to\n",
    "\n",
    "1a) create an array that contains all integer numbers from 0 up to 20, including the number 20?\n",
    "\n",
    "1b) create an array that contains 13 values spread logarithmically between the values $10^2$ and $10^5$?\n",
    "\n",
    "1c) create an array that contains the number 3 100 times in a row?\n",
    "\n",
    "1d) create an array that contains the squares of the natural numbers from 1 to 10, i.e. contains the numbers 1, 4, 9, ..., 100?\n",
    "\n",
    "1e) print the second number from the array you created in 1d)?"
   ]
  },
  {
   "cell_type": "markdown",
   "metadata": {},
   "source": [
    "**Exercise 2:** (total: 10 marks)\n",
    "\n",
    "Make one matplotlib plot that shows two mathematical functions, one being $f(x) = 0.5x^2$ and the other one being $g(x) = 3x-4$. Plot this for x values from 0 to 15. Choose different marker symbols, line styles, and line widths for the two funtions.  "
   ]
  },
  {
   "cell_type": "markdown",
   "metadata": {},
   "source": [
    "**Exercise 3**: (total: 10 marks)\n",
    "\n",
    "Write a python function called \"sillyfunction\". This function shall take one number as input, and shall return the following output:\n",
    "\n",
    "- if the input number is negative: \"Booh!\"\n",
    "\n",
    "- if the input number is positive and a multiple of 7: \"I wish I was a cat.\"\n",
    "\n",
    "- if the input number is between 15 and 20 (including the borders): \"This is how many cakes I ate for breakfast.\"\n",
    "\n",
    "- if the input number is anything else: \"o_o\"\n",
    "\n",
    "This means that if I type \"sillyfunction(-4.3)\", I should get the output \"Booh!\" in the python shell.\n",
    "\n",
    "Hint: a built-in Python function to test if a number is a multiple of another number is the \"modulo\" function from the numpy package. It works like this: the result of np.mod(20, 5) is zero, because 20 is a multiple of 5. But the result of np.mod(22, 5) is 2, because dividing 22 by 5, using only integers, leaves the rest 2."
   ]
  },
  {
   "cell_type": "markdown",
   "metadata": {},
   "source": [
    "**Exercise 4**: (total: 10 marks)\n",
    "\n",
    "Fibonacci numbers are a sequence of numbers that goes like this:\n",
    "\n",
    "1, 1, 2, 3, 5, 8, 13, 21, 34, ...\n",
    "\n",
    "As you can see, each number is the sum of the previous two numbers.\n",
    "\n",
    "1a) Write a Python function called \"fibonacci\" that calculates the correct Fibonacci number from the above sequence, given the position in the sequence. So, \"fibonacci(0)\" should give the result \"1\", \"fibonacci(5)\" should give the result \"8\", and so on.\n",
    "\n",
    "1b) Calculate the 50th Fibonacci number of that sequence.\n",
    "\n"
   ]
  },
  {
   "cell_type": "markdown",
   "metadata": {},
   "source": [
    "**Bonus exercise, for up to 20 marks**:\n",
    "\n",
    "Give examples of \"sillyfunction\" and \"fibonacci\" that don't work correctly, *and explain why they don't work*. These can be examples of actual mistakes you made while trying to work out the correct answers to exercises 3 and 4. You can give up to two examples per function. You will get 5 bonus marks for each non-working example with a good explanation for why they don't work."
   ]
  }
 ],
 "metadata": {
  "kernelspec": {
   "display_name": "Python 2",
   "language": "python",
   "name": "python2"
  },
  "language_info": {
   "codemirror_mode": {
    "name": "ipython",
    "version": 2
   },
   "file_extension": ".py",
   "mimetype": "text/x-python",
   "name": "python",
   "nbconvert_exporter": "python",
   "pygments_lexer": "ipython2",
   "version": "2.7.10"
  }
 },
 "nbformat": 4,
 "nbformat_minor": 0
}
